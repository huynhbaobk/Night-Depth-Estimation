{
 "cells": [
  {
   "cell_type": "code",
   "execution_count": 1,
   "id": "eaf27406",
   "metadata": {},
   "outputs": [],
   "source": [
    "import os\n",
    "\n",
    "\n",
    "# comment char\n",
    "_COMMENT_CHAR = '#'\n",
    "\n",
    "\n",
    "def read_list_from_file(fn: str, items_per_line=None, separator=None, comment_char=_COMMENT_CHAR):\n",
    "    \"\"\"\n",
    "    Read a list from given file\n",
    "    Note: list file is organized by lines, comments are started with _COMMENT_CHAR\n",
    "    :param fn: file name\n",
    "    :param items_per_line: number of items per line\n",
    "    :param separator: separator. Using space char when None\n",
    "    :param comment_char: char indicating comment\n",
    "    :return:\n",
    "    \"\"\"\n",
    "    def get_items(src_line: str):\n",
    "        if items_per_line is None:\n",
    "            items = src_line.split(separator)\n",
    "        else:\n",
    "            items = src_line.split(separator, items_per_line)[: items_per_line]\n",
    "        return items[0] if len(items) == 1 else items\n",
    "\n",
    "    # check parameters\n",
    "    assert os.path.exists(fn)\n",
    "    assert (items_per_line is None) or (items_per_line > 0)\n",
    "    # store result\n",
    "    result = []\n",
    "    # read file\n",
    "    with open(fn, 'r') as f:\n",
    "        # handle lines\n",
    "        while True:\n",
    "            line = f.readline()\n",
    "            if not line:\n",
    "                break\n",
    "            line = line.strip()\n",
    "            if line.startswith(comment_char):\n",
    "                continue\n",
    "            result.append(get_items(line))\n",
    "    # return result\n",
    "    return result"
   ]
  },
  {
   "cell_type": "code",
   "execution_count": 7,
   "id": "aa629629",
   "metadata": {},
   "outputs": [
    {
     "name": "stdout",
     "output_type": "stream",
     "text": [
      "411\n",
      "['1418757162925551', '1418757162988042', '1418757163050532', '1418757163113023', '1418757163175517', '1418757163238009', '1418757163300500', '1418757163362990', '1418757163425483', '1418757163487974', '1418757163550466', '1418757163612958', '1418757163675448', '1418757163737939', '1418757163800433', '1418757163862923', '1418757163925416', '1418757163987906', '1418757164050399', '1418757164112891']\n"
     ]
    }
   ],
   "source": [
    "fn = \"/media/aiteam/DataAI/STEPS/split_files/robotcar/2014-12-16-18-44-24/test_split.txt\"\n",
    "files = read_list_from_file(fn, 1)\n",
    "print(len(files))\n",
    "print(files[:20])"
   ]
  },
  {
   "cell_type": "code",
   "execution_count": 1,
   "id": "bb465fef",
   "metadata": {},
   "outputs": [
    {
     "name": "stderr",
     "output_type": "stream",
     "text": [
      "libpng error: Read Error\n"
     ]
    }
   ],
   "source": [
    "import cv2\n",
    "cv2.imread(\"/media/aiteam/DataAI/depth_datasets/oxford_raw/2014-12-09-13-21-02/rgb/1418132636269527.png\")"
   ]
  },
  {
   "cell_type": "code",
   "execution_count": null,
   "id": "2c3ae4d7",
   "metadata": {},
   "outputs": [],
   "source": []
  }
 ],
 "metadata": {
  "kernelspec": {
   "display_name": "Python 3 (ipykernel)",
   "language": "python",
   "name": "python3"
  },
  "language_info": {
   "codemirror_mode": {
    "name": "ipython",
    "version": 3
   },
   "file_extension": ".py",
   "mimetype": "text/x-python",
   "name": "python",
   "nbconvert_exporter": "python",
   "pygments_lexer": "ipython3",
   "version": "3.7.16"
  },
  "toc": {
   "base_numbering": 1,
   "nav_menu": {},
   "number_sections": true,
   "sideBar": true,
   "skip_h1_title": false,
   "title_cell": "Table of Contents",
   "title_sidebar": "Contents",
   "toc_cell": false,
   "toc_position": {},
   "toc_section_display": true,
   "toc_window_display": false
  }
 },
 "nbformat": 4,
 "nbformat_minor": 5
}
